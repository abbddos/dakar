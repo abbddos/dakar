{
 "cells": [
  {
   "cell_type": "code",
   "execution_count": 16,
   "metadata": {},
   "outputs": [],
   "source": [
    "from confluent_kafka import Consumer \n",
    "import json\n",
    "from queue import Queue\n",
    "import numpy as np \n",
    "import pandas as pd"
   ]
  },
  {
   "cell_type": "code",
   "execution_count": 17,
   "metadata": {},
   "outputs": [],
   "source": [
    "def get_mean(x):\n",
    "    return np.array(x).mean()"
   ]
  },
  {
   "cell_type": "code",
   "execution_count": 18,
   "metadata": {},
   "outputs": [],
   "source": [
    "def consume_rally_data(topic, batch_size):\n",
    "    conf = {\n",
    "        'bootstrap.servers':'localhost:9092',\n",
    "        'group.id':'mygroup',\n",
    "        'auto.offset.reset':'earliest'\n",
    "    }\n",
    "\n",
    "    consumer = Consumer(conf)\n",
    "    consumer.subscribe([topic])\n",
    "    buffer = []\n",
    "\n",
    "   \n",
    "    for _ in range(batch_size):\n",
    "        msg = consumer.poll(1.0)\n",
    "        if msg is None: \n",
    "            continue \n",
    "        if msg.error():\n",
    "            print(f'Consumer Error: {msg.error()}')\n",
    "            continue\n",
    "\n",
    "        data = json.loads(msg.value().decode('utf-8'))\n",
    "        buffer.append(data)\n",
    "\n",
    "        if len(buffer) == batch_size:\n",
    "            global return_data\n",
    "            return_data = json.dumps(buffer)\n",
    "            buffer.clear()\n",
    "\n",
    "    consumer.close()\n",
    "    return return_data\n"
   ]
  },
  {
   "cell_type": "code",
   "execution_count": 19,
   "metadata": {},
   "outputs": [],
   "source": [
    "data_queue = consume_rally_data(\"dakar_rally_sim\", batch_size=3)"
   ]
  },
  {
   "cell_type": "code",
   "execution_count": 20,
   "metadata": {},
   "outputs": [
    {
     "data": {
      "text/plain": [
       "3"
      ]
     },
     "execution_count": 20,
     "metadata": {},
     "output_type": "execute_result"
    }
   ],
   "source": [
    "data = json.loads(data_queue)\n",
    "df = pd.json_normalize(data, errors = 'ignore')\n",
    "len(df)"
   ]
  },
  {
   "cell_type": "code",
   "execution_count": 21,
   "metadata": {},
   "outputs": [],
   "source": [
    "headers = [\n",
    "            'vehicle performance.engine_rpm', 'vehicle performance.engine_temp',\n",
    "            'vehicle performance.fuel_level', 'vehicle performance.oil_pressure',\n",
    "            'vehicle performance.suspension_travel.FL',\n",
    "            'vehicle performance.suspension_travel.FR',\n",
    "            'vehicle performance.suspension_travel.RL',\n",
    "            'vehicle performance.suspension_travel.RR',\n",
    "            'vehicle performance.tire_pressure.FL',\n",
    "            'vehicle performance.tire_pressure.FR',\n",
    "            'vehicle performance.tire_pressure.RL',\n",
    "            'vehicle performance.tire_pressure.RR',\n",
    "            'vehicle performance.transmission_temp', 'weather.barometric_pressure',\n",
    "            'weather.external_temp', 'weather.humidity'\n",
    "        ]"
   ]
  },
  {
   "cell_type": "code",
   "execution_count": 22,
   "metadata": {},
   "outputs": [],
   "source": [
    "df1 = df.copy()\n",
    "for h in headers:\n",
    "    df1[h] = df1[h].apply(lambda x: get_mean(x))\n",
    "\n",
    "df2 = df1[headers]\n",
    "df2 = df2.mean()\n",
    "\n",
    "df2['location.altitude'] = df1.iloc[len(df)-1]['location.altitude'][2]\n",
    "df2['location.compass_heading'] = df1.iloc[len(df)-1]['location.compass_heading'][2]\n",
    "df2['location.gps_coordinates'] = df1.iloc[len(df)-1]['location.gps_coordinates'][2]\n",
    "df2['time stamp'] = df1.iloc[len(df)-1]['time stamp']"
   ]
  },
  {
   "cell_type": "code",
   "execution_count": 23,
   "metadata": {},
   "outputs": [
    {
     "name": "stdout",
     "output_type": "stream",
     "text": [
      "vehicle performance.engine_rpm                                  4737.849407\n",
      "vehicle performance.engine_temp                                   98.324581\n",
      "vehicle performance.fuel_level                                    54.385693\n",
      "vehicle performance.oil_pressure                                  55.070427\n",
      "vehicle performance.suspension_travel.FL                           7.341012\n",
      "vehicle performance.suspension_travel.FR                           6.080976\n",
      "vehicle performance.suspension_travel.RL                           6.142202\n",
      "vehicle performance.suspension_travel.RR                           5.477687\n",
      "vehicle performance.tire_pressure.FL                              31.608297\n",
      "vehicle performance.tire_pressure.FR                              29.903036\n",
      "vehicle performance.tire_pressure.RL                               30.83961\n",
      "vehicle performance.tire_pressure.RR                              29.451309\n",
      "vehicle performance.transmission_temp                             97.305161\n",
      "weather.barometric_pressure                                      999.751297\n",
      "weather.external_temp                                              22.11334\n",
      "weather.humidity                                                  57.520137\n",
      "location.altitude                                               3146.154103\n",
      "location.compass_heading                                         262.089721\n",
      "location.gps_coordinates                    37°46'29.83\"N, -122°-25'-9.79\"E\n",
      "time stamp                                         Mon Jan 27 13:30:26 2025\n",
      "dtype: object\n"
     ]
    }
   ],
   "source": [
    "print(df2)"
   ]
  },
  {
   "cell_type": "code",
   "execution_count": null,
   "metadata": {},
   "outputs": [],
   "source": []
  }
 ],
 "metadata": {
  "kernelspec": {
   "display_name": "venv",
   "language": "python",
   "name": "python3"
  },
  "language_info": {
   "codemirror_mode": {
    "name": "ipython",
    "version": 3
   },
   "file_extension": ".py",
   "mimetype": "text/x-python",
   "name": "python",
   "nbconvert_exporter": "python",
   "pygments_lexer": "ipython3",
   "version": "3.12.7"
  }
 },
 "nbformat": 4,
 "nbformat_minor": 2
}
