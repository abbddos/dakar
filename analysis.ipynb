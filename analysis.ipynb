{
 "cells": [
  {
   "cell_type": "code",
   "execution_count": 41,
   "metadata": {},
   "outputs": [],
   "source": [
    "from confluent_kafka import Consumer \n",
    "import json\n",
    "from queue import Queue\n",
    "import numpy as np \n",
    "import pandas as pd"
   ]
  },
  {
   "cell_type": "code",
   "execution_count": 42,
   "metadata": {},
   "outputs": [],
   "source": [
    "def get_mean(x):\n",
    "    return np.array(x).mean()"
   ]
  },
  {
   "cell_type": "code",
   "execution_count": 43,
   "metadata": {},
   "outputs": [],
   "source": [
    "def consume_rally_data(topic, batch_size):\n",
    "    conf = {\n",
    "        'bootstrap.servers':'localhost:9092',\n",
    "        'group.id':'mygroup',\n",
    "        'auto.offset.reset':'earliest'\n",
    "    }\n",
    "\n",
    "    consumer = Consumer(conf)\n",
    "    consumer.subscribe([topic])\n",
    "    buffer = []\n",
    "    return_data = []\n",
    "\n",
    "   \n",
    "    for _ in range(batch_size):\n",
    "        msg = consumer.poll(1.0)\n",
    "        if msg is None: \n",
    "            continue \n",
    "        if msg.error():\n",
    "            print(f'Consumer Error: {msg.error()}')\n",
    "            continue\n",
    "\n",
    "        data = json.loads(msg.value().decode('utf-8'))\n",
    "        buffer.append(data)\n",
    "\n",
    "        if len(buffer) == batch_size:\n",
    "            \n",
    "            return_data.extend(buffer)\n",
    "            buffer.clear()\n",
    "\n",
    "    consumer.close()\n",
    "    return json.dumps(return_data)\n"
   ]
  },
  {
   "cell_type": "code",
   "execution_count": 44,
   "metadata": {},
   "outputs": [],
   "source": [
    "def Rally_Data_Analysis(data_queue):\n",
    "    data = json.loads(data_queue)\n",
    "    df = pd.json_normalize(data, errors = 'ignore')\n",
    "    \n",
    "    headers = [\n",
    "            'vehicle performance.engine_rpm', 'vehicle performance.engine_temp',\n",
    "            'vehicle performance.fuel_level', 'vehicle performance.oil_pressure',\n",
    "            'vehicle performance.suspension_travel.FL',\n",
    "            'vehicle performance.suspension_travel.FR',\n",
    "            'vehicle performance.suspension_travel.RL',\n",
    "            'vehicle performance.suspension_travel.RR',\n",
    "            'vehicle performance.tire_pressure.FL',\n",
    "            'vehicle performance.tire_pressure.FR',\n",
    "            'vehicle performance.tire_pressure.RL',\n",
    "            'vehicle performance.tire_pressure.RR',\n",
    "            'vehicle performance.transmission_temp', 'weather.barometric_pressure',\n",
    "            'weather.external_temp', 'weather.humidity'\n",
    "        ]\n",
    "    \n",
    "    df1 = df.copy()\n",
    "    for h in headers:\n",
    "        df1[h] = df1[h].apply(lambda x: get_mean(x))\n",
    "\n",
    "    df2 = df1[headers]\n",
    "    df2 = df2.mean()\n",
    "\n",
    "    df2['location.altitude'] = df1.iloc[-1]['location.altitude'][2]\n",
    "    df2['location.compass_heading'] = df1.iloc[-1]['location.compass_heading'][2]\n",
    "    df2['location.gps_coordinates'] = df1.iloc[-1]['location.gps_coordinates'][2]\n",
    "    df2['time stamp'] = df1.iloc[-1]['time stamp']\n",
    "\n",
    "    return df2.to_json() "
   ]
  },
  {
   "cell_type": "code",
   "execution_count": 45,
   "metadata": {},
   "outputs": [
    {
     "name": "stderr",
     "output_type": "stream",
     "text": [
      "%5|1738065278.840|REQTMOUT|rdkafka#consumer-8| [thrd:GroupCoordinator]: GroupCoordinator/0: Timed out LeaveGroupRequest in flight (after 5004ms, timeout #0): possibly held back by preceeding blocking JoinGroupRequest with timeout in 292996ms\n",
      "%4|1738065278.840|REQTMOUT|rdkafka#consumer-8| [thrd:GroupCoordinator]: GroupCoordinator/0: Timed out 1 in-flight, 0 retry-queued, 0 out-queue, 0 partially-sent requests\n",
      "%3|1738065278.840|FAIL|rdkafka#consumer-8| [thrd:GroupCoordinator]: GroupCoordinator: abdul-Precision-7540:9092: 1 request(s) timed out: disconnect (average rtt 0.270ms) (after 10004ms in state UP)\n"
     ]
    }
   ],
   "source": [
    "data_queue = consume_rally_data('dakar_rally_sim', 5)"
   ]
  },
  {
   "cell_type": "code",
   "execution_count": 46,
   "metadata": {},
   "outputs": [
    {
     "ename": "KeyError",
     "evalue": "'vehicle performance.engine_rpm'",
     "output_type": "error",
     "traceback": [
      "\u001b[0;31m---------------------------------------------------------------------------\u001b[0m",
      "\u001b[0;31mKeyError\u001b[0m                                  Traceback (most recent call last)",
      "Cell \u001b[0;32mIn[46], line 1\u001b[0m\n\u001b[0;32m----> 1\u001b[0m data \u001b[38;5;241m=\u001b[39m \u001b[43mRally_Data_Analysis\u001b[49m\u001b[43m(\u001b[49m\u001b[43mdata_queue\u001b[49m\u001b[43m)\u001b[49m\n\u001b[1;32m      2\u001b[0m data \u001b[38;5;241m=\u001b[39m json\u001b[38;5;241m.\u001b[39mloads(data)\n\u001b[1;32m      3\u001b[0m data\n",
      "Cell \u001b[0;32mIn[44], line 22\u001b[0m, in \u001b[0;36mRally_Data_Analysis\u001b[0;34m(data_queue)\u001b[0m\n\u001b[1;32m     20\u001b[0m df1 \u001b[38;5;241m=\u001b[39m df\u001b[38;5;241m.\u001b[39mcopy()\n\u001b[1;32m     21\u001b[0m \u001b[38;5;28;01mfor\u001b[39;00m h \u001b[38;5;129;01min\u001b[39;00m headers:\n\u001b[0;32m---> 22\u001b[0m     df1[h] \u001b[38;5;241m=\u001b[39m \u001b[43mdf1\u001b[49m\u001b[43m[\u001b[49m\u001b[43mh\u001b[49m\u001b[43m]\u001b[49m\u001b[38;5;241m.\u001b[39mapply(\u001b[38;5;28;01mlambda\u001b[39;00m x: get_mean(x))\n\u001b[1;32m     24\u001b[0m df2 \u001b[38;5;241m=\u001b[39m df1[headers]\n\u001b[1;32m     25\u001b[0m df2 \u001b[38;5;241m=\u001b[39m df2\u001b[38;5;241m.\u001b[39mmean()\n",
      "File \u001b[0;32m~/Dakar/venv/lib/python3.12/site-packages/pandas/core/frame.py:4102\u001b[0m, in \u001b[0;36mDataFrame.__getitem__\u001b[0;34m(self, key)\u001b[0m\n\u001b[1;32m   4100\u001b[0m \u001b[38;5;28;01mif\u001b[39;00m \u001b[38;5;28mself\u001b[39m\u001b[38;5;241m.\u001b[39mcolumns\u001b[38;5;241m.\u001b[39mnlevels \u001b[38;5;241m>\u001b[39m \u001b[38;5;241m1\u001b[39m:\n\u001b[1;32m   4101\u001b[0m     \u001b[38;5;28;01mreturn\u001b[39;00m \u001b[38;5;28mself\u001b[39m\u001b[38;5;241m.\u001b[39m_getitem_multilevel(key)\n\u001b[0;32m-> 4102\u001b[0m indexer \u001b[38;5;241m=\u001b[39m \u001b[38;5;28;43mself\u001b[39;49m\u001b[38;5;241;43m.\u001b[39;49m\u001b[43mcolumns\u001b[49m\u001b[38;5;241;43m.\u001b[39;49m\u001b[43mget_loc\u001b[49m\u001b[43m(\u001b[49m\u001b[43mkey\u001b[49m\u001b[43m)\u001b[49m\n\u001b[1;32m   4103\u001b[0m \u001b[38;5;28;01mif\u001b[39;00m is_integer(indexer):\n\u001b[1;32m   4104\u001b[0m     indexer \u001b[38;5;241m=\u001b[39m [indexer]\n",
      "File \u001b[0;32m~/Dakar/venv/lib/python3.12/site-packages/pandas/core/indexes/range.py:417\u001b[0m, in \u001b[0;36mRangeIndex.get_loc\u001b[0;34m(self, key)\u001b[0m\n\u001b[1;32m    415\u001b[0m         \u001b[38;5;28;01mraise\u001b[39;00m \u001b[38;5;167;01mKeyError\u001b[39;00m(key) \u001b[38;5;28;01mfrom\u001b[39;00m\u001b[38;5;250m \u001b[39m\u001b[38;5;21;01merr\u001b[39;00m\n\u001b[1;32m    416\u001b[0m \u001b[38;5;28;01mif\u001b[39;00m \u001b[38;5;28misinstance\u001b[39m(key, Hashable):\n\u001b[0;32m--> 417\u001b[0m     \u001b[38;5;28;01mraise\u001b[39;00m \u001b[38;5;167;01mKeyError\u001b[39;00m(key)\n\u001b[1;32m    418\u001b[0m \u001b[38;5;28mself\u001b[39m\u001b[38;5;241m.\u001b[39m_check_indexing_error(key)\n\u001b[1;32m    419\u001b[0m \u001b[38;5;28;01mraise\u001b[39;00m \u001b[38;5;167;01mKeyError\u001b[39;00m(key)\n",
      "\u001b[0;31mKeyError\u001b[0m: 'vehicle performance.engine_rpm'"
     ]
    }
   ],
   "source": [
    "data = Rally_Data_Analysis(data_queue)\n",
    "data = json.loads(data)\n",
    "data"
   ]
  },
  {
   "cell_type": "code",
   "execution_count": 32,
   "metadata": {},
   "outputs": [
    {
     "data": {
      "text/plain": [
       "4107.160815753"
      ]
     },
     "execution_count": 32,
     "metadata": {},
     "output_type": "execute_result"
    }
   ],
   "source": [
    "data['vehicle performance.engine_rpm']"
   ]
  },
  {
   "cell_type": "code",
   "execution_count": null,
   "metadata": {},
   "outputs": [],
   "source": []
  }
 ],
 "metadata": {
  "kernelspec": {
   "display_name": "venv",
   "language": "python",
   "name": "python3"
  },
  "language_info": {
   "codemirror_mode": {
    "name": "ipython",
    "version": 3
   },
   "file_extension": ".py",
   "mimetype": "text/x-python",
   "name": "python",
   "nbconvert_exporter": "python",
   "pygments_lexer": "ipython3",
   "version": "3.12.7"
  }
 },
 "nbformat": 4,
 "nbformat_minor": 2
}
